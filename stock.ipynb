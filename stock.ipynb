{
  "cells": [
    {
      "cell_type": "markdown",
      "metadata": {
        "colab_type": "text",
        "id": "view-in-github"
      },
      "source": [
        "<a href=\"https://colab.research.google.com/github/Salinastha37/arima/blob/master/stock.ipynb\" target=\"_parent\"><img src=\"https://colab.research.google.com/assets/colab-badge.svg\" alt=\"Open In Colab\"/></a>"
      ]
    },
    {
      "cell_type": "code",
      "execution_count": null,
      "metadata": {
        "colab": {
          "base_uri": "https://localhost:8080/"
        },
        "id": "TtmZ3TxvRUsv",
        "outputId": "f91c20b5-931a-4339-afe4-fa4cef8836c5"
      },
      "outputs": [
        {
          "ename": "",
          "evalue": "",
          "output_type": "error",
          "traceback": [
            "\u001b[1;31mRunning cells with 'venv (Python 3.12.3)' requires the ipykernel package.\n",
            "\u001b[1;31mRun the following command to install 'ipykernel' into the Python environment. \n",
            "\u001b[1;31mCommand: 'd:/stock/arima/venv/Scripts/python.exe -m pip install ipykernel -U --force-reinstall'"
          ]
        }
      ],
      "source": [
        "!pip install yfinance\n",
        "\n"
      ]
    },
    {
      "cell_type": "code",
      "execution_count": null,
      "metadata": {
        "id": "ELRZ8Bj1SDoJ"
      },
      "outputs": [],
      "source": [
        "import yfinance as yf\n",
        "stock_symbol = 'GAIL.NS'\n",
        "data = yf.download(tickers= stock_symbol, period='5y', interval='1d')"
      ]
    },
    {
      "cell_type": "code",
      "execution_count": null,
      "metadata": {
        "id": "dP6vHKxvSXl0"
      },
      "outputs": [],
      "source": [
        "type(data)\n"
      ]
    },
    {
      "cell_type": "code",
      "execution_count": null,
      "metadata": {
        "id": "xkOHiFjnScHk"
      },
      "outputs": [],
      "source": [
        "data.head()"
      ]
    },
    {
      "cell_type": "code",
      "execution_count": null,
      "metadata": {
        "id": "XU0U8D6xSeOc"
      },
      "outputs": [],
      "source": [
        "data.tail"
      ]
    },
    {
      "cell_type": "code",
      "execution_count": null,
      "metadata": {
        "id": "cmxD8HolShOz"
      },
      "outputs": [],
      "source": [
        "opn = data[['Open']]"
      ]
    },
    {
      "cell_type": "code",
      "execution_count": null,
      "metadata": {
        "id": "02nC5zOdSle7"
      },
      "outputs": [],
      "source": [
        "opn.plot"
      ]
    },
    {
      "cell_type": "code",
      "execution_count": null,
      "metadata": {
        "id": "d6KimD4eSnva"
      },
      "outputs": [],
      "source": [
        "import matplotlib.pyplot as plt\n"
      ]
    },
    {
      "cell_type": "code",
      "execution_count": null,
      "metadata": {
        "id": "Lho6nRNlSvKO"
      },
      "outputs": [],
      "source": [
        "ds = opn.values\n",
        "ds"
      ]
    },
    {
      "cell_type": "code",
      "execution_count": null,
      "metadata": {
        "id": "ZN4ZriZdSzH8"
      },
      "outputs": [],
      "source": [
        "plt.plot(ds);"
      ]
    },
    {
      "cell_type": "code",
      "execution_count": null,
      "metadata": {
        "id": "LoEmEHwLS1tx"
      },
      "outputs": [],
      "source": [
        "import numpy as np\n",
        "from sklearn.preprocessing import MinMaxScaler\n"
      ]
    },
    {
      "cell_type": "code",
      "execution_count": null,
      "metadata": {
        "id": "QoVL2CuqS_0_"
      },
      "outputs": [],
      "source": [
        "normalizer = MinMaxScaler(feature_range=(0,1))\n",
        "ds_scaled = normalizer.fit_transform(np.array(ds).reshape(-1,1))"
      ]
    },
    {
      "cell_type": "code",
      "execution_count": null,
      "metadata": {
        "id": "jJWTWXJvTdu6"
      },
      "outputs": [],
      "source": [
        "len(ds_scaled),len(ds)"
      ]
    },
    {
      "cell_type": "code",
      "execution_count": null,
      "metadata": {
        "id": "gXrTeHGCTlR2"
      },
      "outputs": [],
      "source": [
        "train_size = int(len(ds_scaled)*0.70)\n",
        "test_size = len(ds_scaled)-train_size"
      ]
    },
    {
      "cell_type": "code",
      "execution_count": null,
      "metadata": {
        "id": "2caYu75UT0LK"
      },
      "outputs": [],
      "source": [
        "train_size,test_size"
      ]
    },
    {
      "cell_type": "code",
      "execution_count": null,
      "metadata": {
        "id": "APJt9aTcT5cS"
      },
      "outputs": [],
      "source": [
        "ds_train,ds_test= ds_scaled[0:train_size,:],ds_scaled[train_size:len(Ds_scaled),:1]"
      ]
    },
    {
      "cell_type": "code",
      "execution_count": null,
      "metadata": {
        "id": "h82QHGjeYh5B"
      },
      "outputs": [],
      "source": [
        "len(ds_train),len(ds_test)"
      ]
    },
    {
      "cell_type": "code",
      "execution_count": null,
      "metadata": {
        "id": "NAwXCbezYnBT"
      },
      "outputs": [],
      "source": [
        "#creating dataset in time series for lstm\n",
        "def create_ds(dataset,step):\n",
        "  Xtrain,Ytrain =[],[]\n",
        "  for i in range(len(dataset)-step-1):\n",
        "    a =dataset[i:(i+step),0]\n",
        "    Xtrain.append(a)\n",
        "    Ytrain.append(dataset[i+step,0])\n",
        "    return np.array(Xtrain), np.array(Ytrain)"
      ]
    },
    {
      "cell_type": "code",
      "execution_count": null,
      "metadata": {
        "id": "KhsK8AgqZJb8"
      },
      "outputs": [],
      "source": [
        "#taking 100 days price as one record for training\n",
        "time_stamp = 100\n",
        "x_train,y_train = create_ds(ds_train, time_stamp)\n",
        "x_test,y_test = create_ds(ds_test,time_stamp)"
      ]
    },
    {
      "cell_type": "code",
      "execution_count": null,
      "metadata": {
        "id": "3SQ33NO9Zf2b"
      },
      "outputs": [],
      "source": [
        "x_train.shape,y_train.shape\n"
      ]
    },
    {
      "cell_type": "code",
      "execution_count": null,
      "metadata": {
        "id": "UJaEAymWZk4q"
      },
      "outputs": [],
      "source": [
        "x_test.shape,y_test.shape"
      ]
    },
    {
      "cell_type": "code",
      "execution_count": null,
      "metadata": {
        "id": "5sWFv42fZoHF"
      },
      "outputs": [],
      "source": [
        "#reshaping data to fit into LSTM model\n",
        "x_train = x_train.reshape(x_train.shape[0], x_train.shape[1],1)\n",
        "x_test = x_test.reshape(x_test.shape[0],x_test.shape[1],1)"
      ]
    },
    {
      "cell_type": "code",
      "execution_count": null,
      "metadata": {
        "id": "KioShRUTaAEb"
      },
      "outputs": [],
      "source": [
        "from keras.models import Sequential\n",
        "from keras.layers import Dense,LSTM"
      ]
    },
    {
      "cell_type": "code",
      "execution_count": null,
      "metadata": {
        "id": "Ir41qfOdaHq9"
      },
      "outputs": [],
      "source": [
        "#creating LSTM model using keras\n",
        "model =Sequential()\n",
        "model.add(LSTM(units=50,return_sequences=True,input_shape=(x_train.shape[1],1)))\n",
        "model.add(LSTM(units=50,return_sequences=True))\n",
        "model.add(LSTM(units=50))\n",
        "model.add(Dense(units=1,activation='linear'))\n",
        "model.summary()"
      ]
    },
    {
      "cell_type": "code",
      "execution_count": null,
      "metadata": {
        "id": "i7r2L4GCa2FD"
      },
      "outputs": [],
      "source": [
        "#training model with adam optimizer and mean squared error loss function\n",
        "model.compile(loss='mean_sqaured_error',optimizer='adam')\n",
        "model.fit(x_train,y_train,validation_data=(x_test,y_test), epochs=100,batch_size =64)"
      ]
    },
    {
      "cell_type": "code",
      "execution_count": null,
      "metadata": {
        "id": "pLKiW8FRbV3Q"
      },
      "outputs": [],
      "source": [
        "#plottimg loss, it shows that loss has decreased significantly and model trained well\n",
        "loss = model.history.history['loss']\n",
        "plt.plt(loss)"
      ]
    },
    {
      "cell_type": "code",
      "execution_count": null,
      "metadata": {
        "id": "Qfj7gGoLbjwB"
      },
      "outputs": [],
      "source": [
        "#predicting on train and test data\n",
        "train_predict = model.predict(x_train)\n",
        "test_product = model.product(x_test)"
      ]
    },
    {
      "cell_type": "code",
      "execution_count": null,
      "metadata": {
        "id": "sPl-wyMzcDSK"
      },
      "outputs": [],
      "source": [
        "#inverse transform to get actual value\n",
        "train_predict = normalizer.inverse_transform(train_predict)\n",
        "test_predict = normalizer.inverse_transform(test_predict)"
      ]
    },
    {
      "cell_type": "code",
      "execution_count": null,
      "metadata": {
        "id": "C_DE7MkVcUVp"
      },
      "outputs": [],
      "source": [
        "#comparing using visuals\n",
        "plt.plot(normalizer.inverse_transform(ds_scaled))\n",
        "plt.plot(train_predict)\n",
        "plt.plot(test_predict)"
      ]
    },
    {
      "cell_type": "code",
      "execution_count": null,
      "metadata": {
        "id": "CP67Ri_HciPM"
      },
      "outputs": [],
      "source": [
        "type(train_predict)"
      ]
    },
    {
      "cell_type": "code",
      "execution_count": null,
      "metadata": {
        "id": "FR4PNAbgdN3P"
      },
      "outputs": [],
      "source": [
        "test= np.vstack((train_predict ,test_predict))"
      ]
    },
    {
      "cell_type": "code",
      "execution_count": null,
      "metadata": {
        "id": "JryUGA42del8"
      },
      "outputs": [],
      "source": [
        "#combining the predicted data to create uniform data visualization\n",
        "plt.plot(normalizer.inverse_transform(ds_scaled))\n",
        "plt.plot(test)"
      ]
    },
    {
      "cell_type": "code",
      "execution_count": null,
      "metadata": {
        "id": "Jms1gq87ds1W"
      },
      "outputs": [],
      "source": [
        "len(ds_test)"
      ]
    },
    {
      "cell_type": "code",
      "execution_count": null,
      "metadata": {
        "id": "PDEUG8FQdwG7"
      },
      "outputs": [],
      "source": [
        "#getting the last 100 days records\n",
        "fut_inp = ds_test[270:]"
      ]
    },
    {
      "cell_type": "code",
      "execution_count": null,
      "metadata": {
        "id": "Po3KUD9rd7Gl"
      },
      "outputs": [],
      "source": [
        "fut_inp = fut_inp.reshape(1,-1)"
      ]
    },
    {
      "cell_type": "code",
      "execution_count": null,
      "metadata": {
        "id": "hP0RYJHIeAN2"
      },
      "outputs": [],
      "source": [
        "tmp_inp = list(fut_inp)"
      ]
    },
    {
      "cell_type": "code",
      "execution_count": null,
      "metadata": {
        "id": "DHA1iulveGyQ"
      },
      "outputs": [],
      "source": [
        "#creating list of the last 100 days\n",
        "tmp_inp = tmp_inp[0].tolist()"
      ]
    },
    {
      "cell_type": "code",
      "execution_count": null,
      "metadata": {
        "id": "fkWdM36CeP1v"
      },
      "outputs": [],
      "source": [
        "#predicting next 30 days price suing the current data\n",
        "#It will predict in sliding window manner (algorithm) with stride 1\n",
        "lst_output=[]\n",
        "n_steps=100\n",
        "i=0\n",
        "while(i<30):\n",
        "  if(len(tmp_inp)>100):\n",
        "      fut_inp = np.array(tmp_inp[1:])\n",
        "      fut_inp = fut_inp.reshape(1,-1)\n",
        "      fut_inp= fut_inp.reshape((1, n_steps,1))\n",
        "      yhat = model.predict(fut_inp, verbose=0)\n",
        "      tmp_inp.extend(yhat[0].tolist())\n",
        "      tmp_inp = tmp_inp[1:]\n",
        "      lst_output.extend(yhat.tolist())\n",
        "      i =i+1\n",
        "  else:\n",
        "      fut_inp = fut_inp.reshape((1, n_steps,1))\n",
        "      yhat = model.predict(fut_inp,verbose=0)\n",
        "      tmp_inp.extend(yhat.tolist())\n",
        "      i=i+1\n",
        "\n",
        "print(lst_output)\n"
      ]
    },
    {
      "cell_type": "code",
      "execution_count": null,
      "metadata": {
        "id": "hU3ifGTOfzZi"
      },
      "outputs": [],
      "source": [
        "len(ds_scaled)"
      ]
    },
    {
      "cell_type": "code",
      "execution_count": null,
      "metadata": {
        "id": "v8HQwtblf2YX"
      },
      "outputs": [],
      "source": [
        "#creating a dummy plane to plt graph one after another\n",
        "plot_new = np.arrange\n",
        "plot_pred = np.arrange(101,131)\n",
        "ds_new = ds_scaled.tolist()"
      ]
    },
    {
      "cell_type": "code",
      "execution_count": null,
      "metadata": {
        "id": "YM2WbJXIgEDE"
      },
      "outputs": [],
      "source": [
        "len(ds_new)"
      ]
    },
    {
      "cell_type": "code",
      "execution_count": null,
      "metadata": {
        "id": "7jQuJ0FSgGb2"
      },
      "outputs": [],
      "source": [
        "#plotting final results with predicted value after 30 days\n",
        "plt.plot(final_graph,)\n",
        "plt.ylabel(\"Price\")\n",
        "plt.xlabel(\"Time\")\n",
        "plt.title(\"{0} prediction of next month open\".format(stock_symbol))\n",
        "plt.axhline(y=final_graph[len(final_graph)-1],color='red',linestyle=\":\",label='NEXT 30D:{0}')\n",
        "plt.legend()"
      ]
    },
    {
      "cell_type": "code",
      "execution_count": null,
      "metadata": {
        "id": "rHhUHbX_g7IM"
      },
      "outputs": [],
      "source": [
        "#entends helps us to fill the missing value with appox line\n",
        "ds_new.extends(lst_output)\n",
        "plt.plot(ds_new[1200:])"
      ]
    },
    {
      "cell_type": "code",
      "execution_count": null,
      "metadata": {
        "id": "2jLG_SvMhF4-"
      },
      "outputs": [],
      "source": [
        "#creating final data for plotting\n",
        "final_graph = normalizer.inverse_transform(ds_new).tolist()"
      ]
    },
    {
      "cell_type": "code",
      "execution_count": null,
      "metadata": {
        "id": "NPDfy0g0hP3o"
      },
      "outputs": [],
      "source": [
        "plotting final results with predicted value after 30 days\n",
        "plt.plot(final_graph)\n",
        "plt.ylabel(\"Price\")\n",
        "plt.xlabel(\"Time\")\n",
        "plt.title(\"{0} prediction of next month open\".format(stock_symbol))\n",
        "plt.axhline(y=final_graph[len(final_graph)-1],color='red',linestyle=\":\",label='NEXT 30D:{0}')\n",
        "plt.legend()"
      ]
    }
  ],
  "metadata": {
    "colab": {
      "authorship_tag": "ABX9TyPInKNU98hbWnhxycL3mrIa",
      "include_colab_link": true,
      "provenance": []
    },
    "kernelspec": {
      "display_name": "Python 3",
      "name": "python3"
    },
    "language_info": {
      "name": "python",
      "version": "3.12.3"
    }
  },
  "nbformat": 4,
  "nbformat_minor": 0
}
