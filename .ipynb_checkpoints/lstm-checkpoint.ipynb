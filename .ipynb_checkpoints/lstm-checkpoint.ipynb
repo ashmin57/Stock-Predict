{
 "cells": [
  {
   "cell_type": "markdown",
   "id": "a4d98b91-a87f-4b15-83e0-4648a4542b33",
   "metadata": {},
   "source": [
    "import pandas as pd\n",
    "import torch\n",
    "import torch.nn as nn\n",
    "import torch.optim as optim\n",
    "from sklearn.preprocessing import MinMaxScaler"
   ]
  },
  {
   "cell_type": "markdown",
   "id": "b64f60c9-c2fb-4e24-8912-274669973bde",
   "metadata": {},
   "source": [
    "wrn.filterwarnings('ignore')\n",
    "SEED = 2021\n",
    "torch.manual_seed(SEED)"
   ]
  },
  {
   "cell_type": "markdown",
   "id": "0c6e7b45-d921-4872-bb7f-de74ad0928b0",
   "metadata": {},
   "source": [
    "# Load your stock price data\n",
    "data_ = pd.read_csv('./hbl.csv')  # Update this with your CSV file path"
   ]
  },
  {
   "cell_type": "markdown",
   "id": "d4f94514-4773-4dc7-9dc9-d71aa22dad14",
   "metadata": {},
   "source": [
    "# Check data structure\n",
    "print(data_.head())\n",
    "print(data_.info())"
   ]
  },
  {
   "cell_type": "markdown",
   "id": "59fd3808-41b3-4edd-83d3-e6a143c3d300",
   "metadata": {},
   "source": [
    "# Preprocess the data\n",
    "data_['Date'] = pd.to_datetime(data_['Date'])\n",
    "data_.set_index('Date', inplace=True)\n",
    "\n",
    "# Feature selection (using 'Close' prices for simplicity)\n",
    "data_ = data_[['Close']]\n",
    "\n",
    "# Normalize the data\n",
    "data_normalized = (data_ - data_.mean()) / data_.std()"
   ]
  },
  {
   "cell_type": "markdown",
   "id": "1194ca8b-9aaf-4a9d-b1f7-e8afe58f4072",
   "metadata": {},
   "source": [
    "def create_sequences(data, seq_length):\n",
    "    X = []\n",
    "    y = []\n",
    "    \n",
    "    for i in range(len(data) - seq_length):\n",
    "        X.append(data[i:i + seq_length])\n",
    "        y.append(data[i + seq_length])\n",
    "    \n",
    "    return torch.tensor(X, dtype=torch.float32), torch.tensor(y, dtype=torch.float32)\n",
    "\n",
    "# Define sequence length\n",
    "SEQ_LENGTH = 10\n",
    "\n",
    "# Create sequences\n",
    "X, y = create_sequences(data, SEQ_LENGTH)"
   ]
  },
  {
   "cell_type": "markdown",
   "id": "6da15fd0-d8f7-4734-a479-0dabae6aab17",
   "metadata": {},
   "source": [
    "class LSTMCell(nn.Module):\n",
    "    def __init__(self, input_size, hidden_size, bidirectional, device):\n",
    "        super().__init__()\n",
    "        self.input_size = input_size\n",
    "        self.hidden_size = hidden_size\n",
    "        self.bidirectional = bidirectional\n",
    "        self.device = device\n",
    "        self.setWeights(self.input_size, self.hidden_size)\n",
    "\n",
    "    def setWeights(self, input_size, hidden_size):\n",
    "        # Input Gate\n",
    "        self.W_i = torch.rand(input_size, hidden_size).to(self.device)\n",
    "        self.U_i = torch.rand(hidden_size, hidden_size).to(self.device)\n",
    "        self.b_i = torch.rand(hidden_size).to(self.device)\n",
    "\n",
    "        # Forget Gate\n",
    "        self.W_f = torch.rand(input_size, hidden_size).to(self.device)\n",
    "        self.U_f = torch.rand(hidden_size, hidden_size).to(self.device)\n",
    "        self.b_f = torch.rand(hidden_size).to(self.device)\n",
    "\n",
    "        # Cell Gate\n",
    "        self.W_c = torch.rand(input_size, hidden_size).to(self.device)\n",
    "        self.U_c = torch.rand(hidden_size, hidden_size).to(self.device)\n",
    "        self.b_c = torch.rand(hidden_size).to(self.device)\n",
    "\n",
    "        # Output Gate\n",
    "        self.W_o = torch.rand(input_size, hidden_size).to(self.device)\n",
    "        self.U_o = torch.rand(hidden_size, hidden_size).to(self.device)\n",
    "        self.b_o = torch.rand(hidden_size).to(self.device)\n",
    "\n",
    "    def forward(self, x):\n",
    "        batch_size = x.size(0)\n",
    "        sequence_length = x.size(1)\n",
    "        hidden_sequence = []\n",
    "\n",
    "        hx = torch.zeros(batch_size, self.hidden_size).to(self.device)\n",
    "        cx = torch.zeros(batch_size, self.hidden_size).to(self.device)            \n",
    "\n",
    "        for t in range(sequence_length):\n",
    "            x_t = x[:, t, :]  \n",
    "            \n",
    "            forget_gate = torch.sigmoid(torch.mm(x_t, self.W_f) + torch.mm(hx, self.U_f) + self.b_f)\n",
    "            input_gate = torch.sigmoid(torch.mm(x_t, self.W_i) + torch.mm(hx, self.U_i) + self.b_i)\n",
    "            cell_gate = torch.tanh(torch.mm(x_t, self.W_c) + torch.mm(hx, self.U_c) + self.b_c)\n",
    "            output_gate = torch.sigmoid(torch.mm(x_t, self.W_o) + torch.mm(hx, self.U_o) + self.b_o)\n",
    "\n",
    "            cx = forget_gate * cx + input_gate * cell_gate\n",
    "            hx = output_gate * torch.tanh(cx)\n",
    "\n",
    "            hidden_sequence.append(hx.unsqueeze(0))\n",
    "\n",
    "        hidden_sequence = torch.cat(hidden_sequence, 0)\n",
    "        hidden_sequence = hidden_sequence.transpose(0, 1)\n",
    "        return hidden_sequence"
   ]
  },
  {
   "cell_type": "markdown",
   "id": "0fa3dfc1-8453-4044-97e3-4fa287a4e227",
   "metadata": {},
   "source": [
    "class LSTMNet(nn.Module):\n",
    "    def __init__(self, input_size, hidden_size, output_size, n_layers, bidirectional, dropout, device):\n",
    "        super(LSTMNet, self).__init__()\n",
    "        self.EmbeddedLayer = nn.Linear(input_size, hidden_size) \n",
    "        self.LSTMLayers = nn.ModuleList([LSTMCell(hidden_size, hidden_size, bidirectional, device) for _ in range(n_layers)])\n",
    "        self.DenseLayer = nn.Linear(hidden_size, output_size)\n",
    "        self.ActivationLayer = nn.Sigmoid()  \n",
    "\n",
    "    def forward(self, x):\n",
    "        output = self.EmbeddedLayer(x.view(-1, 1))  \n",
    "        output = output.view(-1, SEQ_LENGTH, output.size(-1))  \n",
    "        for cell in self.LSTMLayers:\n",
    "            output = cell(output)\n",
    "        output = output[:, -1, :]  \n",
    "        output = self.DenseLayer(output)\n",
    "        output = self.ActivationLayer(output)\n",
    "        return output"
   ]
  },
  {
   "cell_type": "raw",
   "id": "c39c8f96-7466-4fc4-afea-10559c5a3da6",
   "metadata": {},
   "source": [
    "# Hyperparameters\n",
    "DEVICE = torch.device(\"cuda\" if torch.cuda.is_available() else \"cpu\")\n",
    "INPUT_SIZE = 1  \n",
    "HIDDEN_SIZE = 64\n",
    "OUTPUT_SIZE = 1  \n",
    "N_LAYERS = 2\n",
    "BIDIRECTION = False\n",
    "DROPOUT = 0.1"
   ]
  },
  {
   "cell_type": "markdown",
   "id": "71aa76b7-9a03-4f9c-95a3-17c3ba965bcc",
   "metadata": {},
   "source": [
    "# Instantiate the model\n",
    "model = LSTMNet(INPUT_SIZE, HIDDEN_SIZE, OUTPUT_SIZE, N_LAYERS, BIDIRECTION, DROPOUT, DEVICE).to(DEVICE)"
   ]
  },
  {
   "cell_type": "markdown",
   "id": "5cfdb0dc-3625-46bb-871a-4986828119fb",
   "metadata": {},
   "source": [
    "# Define optimizer and loss function\n",
    "optimizer = optim.Adam(model.parameters(), lr=1e-4)\n",
    "criterion = nn.MSELoss()  "
   ]
  },
  {
   "cell_type": "markdown",
   "id": "51c093cf-712f-4939-a0f5-08944d7556e0",
   "metadata": {},
   "source": [
    "def train(model, X_train, y_train, optimizer, criterion, epochs=100):\n",
    "    model.train()\n",
    "    for epoch in range(epochs):\n",
    "        optimizer.zero_grad()\n",
    "        output = model(X_train)\n",
    "        loss = criterion(output, y_train.view(-1, 1))\n",
    "        loss.backward()\n",
    "        optimizer.step()\n",
    "        \n",
    "        print(f'Epoch [{epoch + 1}/{epochs}], Loss: {loss.item():.4f}')"
   ]
  },
  {
   "cell_type": "markdown",
   "id": "e63f9488-3a47-4585-a254-de34b22faf14",
   "metadata": {},
   "source": [
    "# Calculate total size\n",
    "total_size = len(X)\n",
    "\n",
    "# Define split ratio (80% train, 20% test)\n",
    "train_ratio = 0.8\n",
    "test_ratio = 1 - train_ratio\n",
    "\n",
    "# Calculate sizes\n",
    "train_size = int(total_size * train_ratio)\n",
    "test_size = total_size - train_size  # Remaining samples for the test set\n",
    "\n",
    "print(f'Total Size: {total_size}')\n",
    "print(f'Train Size: {train_size}')\n",
    "print(f'Test Size: {test_size}')\n",
    "\n",
    "# Split data into training and testing sets\n",
    "X_train, y_train = X[:train_size], y[:train_size]\n",
    "X_test, y_test = X[train_size:], y[train_size:]\n",
    "\n",
    "print(f'Train Size: {len(X_train)}')\n",
    "print(f'Test Size: {len(X_test)}')\n"
   ]
  },
  {
   "cell_type": "markdown",
   "id": "64f78dba-4aab-4356-9501-0df0d2fff7f5",
   "metadata": {},
   "source": [
    "# Train the model\n",
    "train(model, X_train.to(DEVICE), y_train.to(DEVICE), optimizer, criterion)"
   ]
  },
  {
   "cell_type": "markdown",
   "id": "84c92068-ac72-41e9-98ae-71479740561e",
   "metadata": {},
   "source": [
    "def evaluate(model, X_valid, y_valid):\n",
    "    model.eval()\n",
    "    with torch.no_grad():\n",
    "        predictions = model(X_valid)\n",
    "        loss = criterion(predictions, y_valid.view(-1, 1).to(DEVICE))\n",
    "        print(f'Validation Loss: {loss.item():.4f}')"
   ]
  },
  {
   "cell_type": "markdown",
   "id": "addf4584-335e-42a9-a197-b99ecb96f0ae",
   "metadata": {},
   "source": [
    "# Evaluate the model\n",
    "evaluate(model, X_valid.to(DEVICE), y_valid)"
   ]
  },
  {
   "cell_type": "markdown",
   "id": "c5e1f3ee-4bf4-4658-a66f-3c8c042832ca",
   "metadata": {},
   "source": []
  }
 ],
 "metadata": {
  "kernelspec": {
   "display_name": "Python 3 (ipykernel)",
   "language": "python",
   "name": "python3"
  },
  "language_info": {
   "codemirror_mode": {
    "name": "ipython",
    "version": 3
   },
   "file_extension": ".py",
   "mimetype": "text/x-python",
   "name": "python",
   "nbconvert_exporter": "python",
   "pygments_lexer": "ipython3",
   "version": "3.11.7"
  }
 },
 "nbformat": 4,
 "nbformat_minor": 5
}
